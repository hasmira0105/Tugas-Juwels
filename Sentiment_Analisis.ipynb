{
  "nbformat": 4,
  "nbformat_minor": 0,
  "metadata": {
    "colab": {
      "name": "Sentiment_Analisis.ipynb",
      "provenance": [],
      "authorship_tag": "ABX9TyPhEHs7h4/4CKRqtIpnenVv",
      "include_colab_link": true
    },
    "kernelspec": {
      "name": "python3",
      "display_name": "Python 3"
    },
    "language_info": {
      "name": "python"
    }
  },
  "cells": [
    {
      "cell_type": "markdown",
      "metadata": {
        "id": "view-in-github",
        "colab_type": "text"
      },
      "source": [
        "<a href=\"https://colab.research.google.com/github/hasmira0105/Tugas_Juwels_NLP/blob/main/Sentiment_Analisis.ipynb\" target=\"_parent\"><img src=\"https://colab.research.google.com/assets/colab-badge.svg\" alt=\"Open In Colab\"/></a>"
      ]
    },
    {
      "cell_type": "code",
      "metadata": {
        "id": "lb38lIQT7DwE"
      },
      "source": [
        "# Import Library \n",
        "import numpy as np \n",
        "import pandas as pd\n",
        "import seaborn as sns"
      ],
      "execution_count": 1,
      "outputs": []
    },
    {
      "cell_type": "code",
      "metadata": {
        "colab": {
          "base_uri": "https://localhost:8080/",
          "height": 204
        },
        "id": "6BGlQHE67NVC",
        "outputId": "fe07e35e-9943-445b-95d1-0924a6134272"
      },
      "source": [
        "# Dataset\n",
        "url = \"https://raw.githubusercontent.com/rizalespe/Dataset-Sentimen-Analisis-Bahasa-Indonesia/master/dataset_tweet_sentiment_cellular_service_provider.csv\"\n",
        "df = pd.read_csv(url)\n",
        "df.head()"
      ],
      "execution_count": 2,
      "outputs": [
        {
          "output_type": "execute_result",
          "data": {
            "text/html": [
              "<div>\n",
              "<style scoped>\n",
              "    .dataframe tbody tr th:only-of-type {\n",
              "        vertical-align: middle;\n",
              "    }\n",
              "\n",
              "    .dataframe tbody tr th {\n",
              "        vertical-align: top;\n",
              "    }\n",
              "\n",
              "    .dataframe thead th {\n",
              "        text-align: right;\n",
              "    }\n",
              "</style>\n",
              "<table border=\"1\" class=\"dataframe\">\n",
              "  <thead>\n",
              "    <tr style=\"text-align: right;\">\n",
              "      <th></th>\n",
              "      <th>Id</th>\n",
              "      <th>Sentiment</th>\n",
              "      <th>Text Tweet</th>\n",
              "    </tr>\n",
              "  </thead>\n",
              "  <tbody>\n",
              "    <tr>\n",
              "      <th>0</th>\n",
              "      <td>1</td>\n",
              "      <td>positive</td>\n",
              "      <td>&lt;USER_MENTION&gt; #BOIKOT_&lt;PROVIDER_NAME&gt; Gunakan...</td>\n",
              "    </tr>\n",
              "    <tr>\n",
              "      <th>1</th>\n",
              "      <td>2</td>\n",
              "      <td>positive</td>\n",
              "      <td>Saktinya balik lagi, alhamdulillah :v &lt;PROVIDE...</td>\n",
              "    </tr>\n",
              "    <tr>\n",
              "      <th>2</th>\n",
              "      <td>3</td>\n",
              "      <td>negative</td>\n",
              "      <td>Selamat pagi &lt;PROVIDER_NAME&gt;  bisa bantu kenap...</td>\n",
              "    </tr>\n",
              "    <tr>\n",
              "      <th>3</th>\n",
              "      <td>4</td>\n",
              "      <td>negative</td>\n",
              "      <td>Dear &lt;PROVIDER_NAME&gt; akhir2 ini jaringan data ...</td>\n",
              "    </tr>\n",
              "    <tr>\n",
              "      <th>4</th>\n",
              "      <td>5</td>\n",
              "      <td>negative</td>\n",
              "      <td>Selamat malam PENDUSTA &lt;PROVIDER_NAME&gt;</td>\n",
              "    </tr>\n",
              "  </tbody>\n",
              "</table>\n",
              "</div>"
            ],
            "text/plain": [
              "   Id Sentiment                                         Text Tweet\n",
              "0   1  positive  <USER_MENTION> #BOIKOT_<PROVIDER_NAME> Gunakan...\n",
              "1   2  positive  Saktinya balik lagi, alhamdulillah :v <PROVIDE...\n",
              "2   3  negative  Selamat pagi <PROVIDER_NAME>  bisa bantu kenap...\n",
              "3   4  negative  Dear <PROVIDER_NAME> akhir2 ini jaringan data ...\n",
              "4   5  negative            Selamat malam PENDUSTA <PROVIDER_NAME> "
            ]
          },
          "metadata": {},
          "execution_count": 2
        }
      ]
    },
    {
      "cell_type": "code",
      "metadata": {
        "colab": {
          "base_uri": "https://localhost:8080/",
          "height": 204
        },
        "id": "QknwDvUn7Toh",
        "outputId": "8132b032-2177-4103-c7e5-6a8967f8fa73"
      },
      "source": [
        "# Hilangkan spasi pada nama kolum\n",
        "df.rename(columns={'Text Tweet':'text_tweet'},inplace=True)\n",
        "df.head()"
      ],
      "execution_count": 3,
      "outputs": [
        {
          "output_type": "execute_result",
          "data": {
            "text/html": [
              "<div>\n",
              "<style scoped>\n",
              "    .dataframe tbody tr th:only-of-type {\n",
              "        vertical-align: middle;\n",
              "    }\n",
              "\n",
              "    .dataframe tbody tr th {\n",
              "        vertical-align: top;\n",
              "    }\n",
              "\n",
              "    .dataframe thead th {\n",
              "        text-align: right;\n",
              "    }\n",
              "</style>\n",
              "<table border=\"1\" class=\"dataframe\">\n",
              "  <thead>\n",
              "    <tr style=\"text-align: right;\">\n",
              "      <th></th>\n",
              "      <th>Id</th>\n",
              "      <th>Sentiment</th>\n",
              "      <th>text_tweet</th>\n",
              "    </tr>\n",
              "  </thead>\n",
              "  <tbody>\n",
              "    <tr>\n",
              "      <th>0</th>\n",
              "      <td>1</td>\n",
              "      <td>positive</td>\n",
              "      <td>&lt;USER_MENTION&gt; #BOIKOT_&lt;PROVIDER_NAME&gt; Gunakan...</td>\n",
              "    </tr>\n",
              "    <tr>\n",
              "      <th>1</th>\n",
              "      <td>2</td>\n",
              "      <td>positive</td>\n",
              "      <td>Saktinya balik lagi, alhamdulillah :v &lt;PROVIDE...</td>\n",
              "    </tr>\n",
              "    <tr>\n",
              "      <th>2</th>\n",
              "      <td>3</td>\n",
              "      <td>negative</td>\n",
              "      <td>Selamat pagi &lt;PROVIDER_NAME&gt;  bisa bantu kenap...</td>\n",
              "    </tr>\n",
              "    <tr>\n",
              "      <th>3</th>\n",
              "      <td>4</td>\n",
              "      <td>negative</td>\n",
              "      <td>Dear &lt;PROVIDER_NAME&gt; akhir2 ini jaringan data ...</td>\n",
              "    </tr>\n",
              "    <tr>\n",
              "      <th>4</th>\n",
              "      <td>5</td>\n",
              "      <td>negative</td>\n",
              "      <td>Selamat malam PENDUSTA &lt;PROVIDER_NAME&gt;</td>\n",
              "    </tr>\n",
              "  </tbody>\n",
              "</table>\n",
              "</div>"
            ],
            "text/plain": [
              "   Id Sentiment                                         text_tweet\n",
              "0   1  positive  <USER_MENTION> #BOIKOT_<PROVIDER_NAME> Gunakan...\n",
              "1   2  positive  Saktinya balik lagi, alhamdulillah :v <PROVIDE...\n",
              "2   3  negative  Selamat pagi <PROVIDER_NAME>  bisa bantu kenap...\n",
              "3   4  negative  Dear <PROVIDER_NAME> akhir2 ini jaringan data ...\n",
              "4   5  negative            Selamat malam PENDUSTA <PROVIDER_NAME> "
            ]
          },
          "metadata": {},
          "execution_count": 3
        }
      ]
    },
    {
      "cell_type": "code",
      "metadata": {
        "colab": {
          "base_uri": "https://localhost:8080/"
        },
        "id": "6nl3qwrx7dLq",
        "outputId": "4c2628f1-fad4-4053-aa64-5fb1fb000e60"
      },
      "source": [
        "from sklearn.preprocessing import LabelEncoder \n",
        "\n",
        "X = df.iloc[:,2].values \n",
        "Le = LabelEncoder()\n",
        "Le.fit(['positive','negative']) \n",
        "\n",
        "y = Le.transform(df.iloc[:,1].values)\n",
        "\n",
        "print(list(Le.classes_))"
      ],
      "execution_count": 4,
      "outputs": [
        {
          "output_type": "stream",
          "name": "stdout",
          "text": [
            "['negative', 'positive']\n"
          ]
        }
      ]
    },
    {
      "cell_type": "code",
      "metadata": {
        "colab": {
          "base_uri": "https://localhost:8080/",
          "height": 296
        },
        "id": "0_XB_IWC7g2q",
        "outputId": "a3cb437c-9c34-4ae2-f2a2-a19cc83fd198"
      },
      "source": [
        "# Eksplorasi data\n",
        "sns.countplot(x='Sentiment', data = df)"
      ],
      "execution_count": 5,
      "outputs": [
        {
          "output_type": "execute_result",
          "data": {
            "text/plain": [
              "<matplotlib.axes._subplots.AxesSubplot at 0x7f96b77d7ed0>"
            ]
          },
          "metadata": {},
          "execution_count": 5
        },
        {
          "output_type": "display_data",
          "data": {
            "image/png": "[encoded data removed]",
            "text/plain": [
              "<Figure size 432x288 with 1 Axes>"
            ]
          },
          "metadata": {
            "needs_background": "light"
          }
        }
      ]
    },
    {
      "cell_type": "code",
      "metadata": {
        "colab": {
          "base_uri": "https://localhost:8080/"
        },
        "id": "nqsea9cZ7nNy",
        "outputId": "0c723d83-9ca7-461f-8368-5a1e5b839269"
      },
      "source": [
        "df['Sentiment'].value_counts()"
      ],
      "execution_count": 6,
      "outputs": [
        {
          "output_type": "execute_result",
          "data": {
            "text/plain": [
              "negative    161\n",
              "positive    139\n",
              "Name: Sentiment, dtype: int64"
            ]
          },
          "metadata": {},
          "execution_count": 6
        }
      ]
    },
    {
      "cell_type": "code",
      "metadata": {
        "colab": {
          "base_uri": "https://localhost:8080/",
          "height": 204
        },
        "id": "CYmEZDHc7rth",
        "outputId": "5d136e25-653e-4cd7-c72a-5052d0601ddb"
      },
      "source": [
        "import requests\n",
        "import re\n",
        "\n",
        "# menghilangkan stopwords \n",
        "url = \"https://raw.githubusercontent.com/Wayan123/Sentiment-Analysis/main/stopwordlist.txt\" \n",
        "ina_stopword = requests.get(url).content \n",
        "\n",
        "stop_list = [] \n",
        "for tempstp in ina_stopword.split():\n",
        "  stop_list.append(tempstp)\n",
        "\n",
        "# menghapus special character dan stopword \n",
        "clean_text = \"@#=-_\\S+|https?:\\S+http?:\\S|{^A-Za-z}+\" \n",
        "\n",
        "def preproses(text_tweet):\n",
        "  text_tweet = re.sub(clean_text,'',str(text_tweet).lower()).strip()\n",
        "  tokens = []\n",
        "  for token in text_tweet.split():\n",
        "    if token not in stop_list:\n",
        "      tokens.append(token) \n",
        "  return ''.join(tokens)\n",
        "\n",
        "df['clean_twt'] = df.text_tweet.apply(lambda x: preproses(x))\n",
        "\n",
        "df.head()"
      ],
      "execution_count": 7,
      "outputs": [
        {
          "output_type": "execute_result",
          "data": {
            "text/html": [
              "<div>\n",
              "<style scoped>\n",
              "    .dataframe tbody tr th:only-of-type {\n",
              "        vertical-align: middle;\n",
              "    }\n",
              "\n",
              "    .dataframe tbody tr th {\n",
              "        vertical-align: top;\n",
              "    }\n",
              "\n",
              "    .dataframe thead th {\n",
              "        text-align: right;\n",
              "    }\n",
              "</style>\n",
              "<table border=\"1\" class=\"dataframe\">\n",
              "  <thead>\n",
              "    <tr style=\"text-align: right;\">\n",
              "      <th></th>\n",
              "      <th>Id</th>\n",
              "      <th>Sentiment</th>\n",
              "      <th>text_tweet</th>\n",
              "      <th>clean_twt</th>\n",
              "    </tr>\n",
              "  </thead>\n",
              "  <tbody>\n",
              "    <tr>\n",
              "      <th>0</th>\n",
              "      <td>1</td>\n",
              "      <td>positive</td>\n",
              "      <td>&lt;USER_MENTION&gt; #BOIKOT_&lt;PROVIDER_NAME&gt; Gunakan...</td>\n",
              "      <td>&lt;user_mention&gt;#boikot_&lt;provider_name&gt;gunakanpr...</td>\n",
              "    </tr>\n",
              "    <tr>\n",
              "      <th>1</th>\n",
              "      <td>2</td>\n",
              "      <td>positive</td>\n",
              "      <td>Saktinya balik lagi, alhamdulillah :v &lt;PROVIDE...</td>\n",
              "      <td>saktinyabaliklagi,alhamdulillah:v&lt;provider_name&gt;</td>\n",
              "    </tr>\n",
              "    <tr>\n",
              "      <th>2</th>\n",
              "      <td>3</td>\n",
              "      <td>negative</td>\n",
              "      <td>Selamat pagi &lt;PROVIDER_NAME&gt;  bisa bantu kenap...</td>\n",
              "      <td>selamatpagi&lt;provider_name&gt;bisabantukenapadidal...</td>\n",
              "    </tr>\n",
              "    <tr>\n",
              "      <th>3</th>\n",
              "      <td>4</td>\n",
              "      <td>negative</td>\n",
              "      <td>Dear &lt;PROVIDER_NAME&gt; akhir2 ini jaringan data ...</td>\n",
              "      <td>dear&lt;provider_name&gt;akhir2inijaringandatalemotb...</td>\n",
              "    </tr>\n",
              "    <tr>\n",
              "      <th>4</th>\n",
              "      <td>5</td>\n",
              "      <td>negative</td>\n",
              "      <td>Selamat malam PENDUSTA &lt;PROVIDER_NAME&gt;</td>\n",
              "      <td>selamatmalampendusta&lt;provider_name&gt;</td>\n",
              "    </tr>\n",
              "  </tbody>\n",
              "</table>\n",
              "</div>"
            ],
            "text/plain": [
              "   Id  ...                                          clean_twt\n",
              "0   1  ...  <user_mention>#boikot_<provider_name>gunakanpr...\n",
              "1   2  ...   saktinyabaliklagi,alhamdulillah:v<provider_name>\n",
              "2   3  ...  selamatpagi<provider_name>bisabantukenapadidal...\n",
              "3   4  ...  dear<provider_name>akhir2inijaringandatalemotb...\n",
              "4   5  ...                selamatmalampendusta<provider_name>\n",
              "\n",
              "[5 rows x 4 columns]"
            ]
          },
          "metadata": {},
          "execution_count": 7
        }
      ]
    },
    {
      "cell_type": "code",
      "metadata": {
        "colab": {
          "base_uri": "https://localhost:8080/"
        },
        "id": "D4m7o7ys7vur",
        "outputId": "acc33852-0f9b-4af8-dc1c-60c5eba16d05"
      },
      "source": [
        "# Mengimport lirary Model\n",
        "\n",
        "from sklearn.feature_extraction.text import TfidfVectorizer\n",
        "from sklearn.linear_model import LogisticRegression\n",
        "from sklearn.ensemble import RandomForestClassifier\n",
        "from sklearn.naive_bayes import GaussianNB\n",
        "from sklearn.svm import SVC\n",
        "from sklearn.model_selection import train_test_split\n",
        "from sklearn.metrics import f1_score, log_loss, accuracy_score, recall_score, precision_score\n",
        "\n",
        "# membangun vector model dengan tf-idf \n",
        "vectorizer = TfidfVectorizer(ngram_range=(1,3),min_df=5)\n",
        "features = vectorizer.fit_transform(df.clean_twt).toarray()\n",
        "\n",
        "vectorizer.vocabulary_"
      ],
      "execution_count": 8,
      "outputs": [
        {
          "output_type": "execute_result",
          "data": {
            "text/plain": [
              "{'4g': 0,\n",
              " 'boikot': 1,\n",
              " 'boikot provider_name': 2,\n",
              " 'jaringan': 3,\n",
              " 'jaringan provider_name': 4,\n",
              " 'lte': 5,\n",
              " 'poin': 6,\n",
              " 'product_name': 7,\n",
              " 'product_name provider_name': 8,\n",
              " 'provider_name': 9,\n",
              " 'provider_name poin': 10,\n",
              " 'provider_name product_name': 11,\n",
              " 'provider_name provider_name': 12,\n",
              " 'provider_name url': 13,\n",
              " 'rt': 14,\n",
              " 'rt user_mention': 15,\n",
              " 'sinyal': 16,\n",
              " 'sinyal provider_name': 17,\n",
              " 'terimakasih': 18,\n",
              " 'terimakasih provider_name': 19,\n",
              " 'url': 20,\n",
              " 'user_mention': 21}"
            ]
          },
          "metadata": {},
          "execution_count": 8
        }
      ]
    },
    {
      "cell_type": "code",
      "metadata": {
        "id": "2eMFHSyn8OL6"
      },
      "source": [
        "# Membagi dataset menjadi training dan testing\n",
        "X_train, X_test, y_train, y_test = train_test_split(features, y, test_size=0.2, random_state=42)"
      ],
      "execution_count": 9,
      "outputs": []
    },
    {
      "cell_type": "code",
      "metadata": {
        "id": "UrYxXVzW8lzT"
      },
      "source": [
        "import time\n",
        "\n",
        "# Modeling LR \n",
        "t1_lr = time.time()\n",
        "lr = LogisticRegression()\n",
        "lr.fit(X_train, y_train)\n",
        "t2_lr = time.time()\n",
        "\n",
        "# Modeling RF\n",
        "t1_rf = time.time()\n",
        "text_classif_rf = RandomForestClassifier()\n",
        "text_classif_rf.fit(X_train, y_train)\n",
        "t2_rf = time.time()\n",
        "\n",
        "# Modeling Naive Bayes\n",
        "t1_nb = time.time()\n",
        "text_classif_nb = GaussianNB()\n",
        "text_classif_nb.fit(X_train, y_train)\n",
        "t2_nb = time.time()\n",
        "\n",
        "# Modeling SVC\n",
        "t1_svm = time.time()\n",
        "text_classif_svm = SVC()\n",
        "text_classif_svm.fit(X_train, y_train)\n",
        "t2_svm = time.time()"
      ],
      "execution_count": 11,
      "outputs": []
    },
    {
      "cell_type": "code",
      "metadata": {
        "colab": {
          "base_uri": "https://localhost:8080/"
        },
        "id": "F3LdH-fA9BDU",
        "outputId": "aaa53d23-54d0-4cf5-9856-61c25cdd55bf"
      },
      "source": [
        "predictions_lr = lr.predict(X_test)\n",
        "t3_lr = time.time()\n",
        "time_linear_train_lr = t2_lr-t1_lr\n",
        "time_linear_predict_lr = t2_lr-t1_lr\n",
        "\n",
        "predictions_rf = text_classif_rf.predict(X_test)\n",
        "t3_id = time.time()\n",
        "time_linear_train_rf = t2_rf-t1_rf\n",
        "time_linear_predict_rf = t2_rf-t1_rf\n",
        "\n",
        "predictions_nb = text_classif_nb.predict(X_test)\n",
        "t3_nb = time.time()\n",
        "time_linear_train_nb = t2_nb-t1_nb\n",
        "time_linear_predict_nb = t2_nb-t1_nb\n",
        "\n",
        "predictions_svm = text_classif_svm.predict(X_test)\n",
        "t3_svm = time.time()\n",
        "time_linear_train_svm = t2_svm-t1_svm\n",
        "time_linear_predict_svm = t2_svm-t1_svm\n",
        "\n",
        "# results\n",
        "print(\"LR Training time: %fs; Prediction time: %fs\" % (time_linear_train_lr, time_linear_predict_lr))\n",
        "print(\"RF Training time: %fs; Prediction time: %fs\" % (time_linear_train_rf, time_linear_predict_rf))\n",
        "print(\"NB Training time: %fs; Prediction time: %fs\" % (time_linear_train_nb, time_linear_predict_nb))\n",
        "print(\"SVM Training time: %fs; Prediction time: %fs\" % (time_linear_train_svm, time_linear_predict_svm))"
      ],
      "execution_count": 12,
      "outputs": [
        {
          "output_type": "stream",
          "name": "stdout",
          "text": [
            "LR Training time: 0.012016s; Prediction time: 0.012016s\n",
            "RF Training time: 0.138440s; Prediction time: 0.138440s\n",
            "NB Training time: 0.001034s; Prediction time: 0.001034s\n",
            "SVM Training time: 0.004253s; Prediction time: 0.004253s\n"
          ]
        }
      ]
    },
    {
      "cell_type": "code",
      "metadata": {
        "colab": {
          "base_uri": "https://localhost:8080/"
        },
        "id": "hNNnynKM9IZl",
        "outputId": "c38cb987-5b68-4809-a00e-1a3335dc263b"
      },
      "source": [
        "from sklearn.metrics import classification_report, confusion_matrix, accuracy_score, recall_score, precision_score, f1_score, roc_auc_score\n",
        "\n",
        "print(\"Logistic Regression\")\n",
        "print('Accuracy  = ', round(accuracy_score(y_test, predictions_lr)*100,2),'%')\n",
        "print('Recall    = ', round(recall_score(y_test, predictions_lr)*100,2),'%')\n",
        "print('Precision = ', round(precision_score(y_test, predictions_lr)*100,2),'%')\n",
        "print('F1-Score  = ', round(f1_score(y_test, predictions_lr)*100,2),'%')\n",
        "print('ROC AUC   = ', roc_auc_score(y_test, predictions_lr))\n",
        "print(\"\")\n",
        "print(\"Random Forest\")\n",
        "print('Accuracy  = ', round(accuracy_score(y_test, predictions_rf)*100,2),'%')\n",
        "print('Recall    = ', round(recall_score(y_test, predictions_rf)*100,2),'%')\n",
        "print('Precision = ', round(precision_score(y_test, predictions_rf)*100,2),'%')\n",
        "print('F1-Score  = ', round(f1_score(y_test, predictions_rf)*100,2),'%')\n",
        "print('ROC AUC   = ', roc_auc_score(y_test, predictions_rf))\n",
        "print(\"\")\n",
        "print(\"Naive Bayes\")\n",
        "print('Accuracy  = ', round(accuracy_score(y_test, predictions_nb)*100,2),'%')\n",
        "print('Recall    = ', round(recall_score(y_test, predictions_nb)*100,2),'%')\n",
        "print('Precision = ', round(precision_score(y_test, predictions_nb)*100,2),'%')\n",
        "print('F1-Score  = ', round(f1_score(y_test, predictions_nb)*100,2),'%')\n",
        "print('ROC AUC   = ', roc_auc_score(y_test, predictions_nb))\n",
        "print(\"\")\n",
        "print(\"Support Vector Machine\")\n",
        "print('Accuracy  = ', round(accuracy_score(y_test, predictions_svm)*100,2),'%')\n",
        "print('Recall    = ', round(recall_score(y_test, predictions_svm)*100,2),'%')\n",
        "print('Precision = ', round(precision_score(y_test, predictions_svm)*100,2),'%')\n",
        "print('F1-Score  = ', round(f1_score(y_test, predictions_svm)*100,2),'%')\n",
        "print('ROC AUC   = ', roc_auc_score(y_test, predictions_svm))\n",
        "print(\"\")"
      ],
      "execution_count": 13,
      "outputs": [
        {
          "output_type": "stream",
          "name": "stdout",
          "text": [
            "Logistic Regression\n",
            "Accuracy  =  48.33 %\n",
            "Recall    =  22.22 %\n",
            "Precision =  37.5 %\n",
            "F1-Score  =  27.91 %\n",
            "ROC AUC   =  0.45959595959595967\n",
            "\n",
            "Random Forest\n",
            "Accuracy  =  50.0 %\n",
            "Recall    =  25.93 %\n",
            "Precision =  41.18 %\n",
            "F1-Score  =  31.82 %\n",
            "ROC AUC   =  0.47811447811447816\n",
            "\n",
            "Naive Bayes\n",
            "Accuracy  =  50.0 %\n",
            "Recall    =  25.93 %\n",
            "Precision =  41.18 %\n",
            "F1-Score  =  31.82 %\n",
            "ROC AUC   =  0.47811447811447816\n",
            "\n",
            "Support Vector Machine\n",
            "Accuracy  =  48.33 %\n",
            "Recall    =  25.93 %\n",
            "Precision =  38.89 %\n",
            "F1-Score  =  31.11 %\n",
            "ROC AUC   =  0.462962962962963\n",
            "\n"
          ]
        }
      ]
    },
    {
      "cell_type": "code",
      "metadata": {
        "colab": {
          "base_uri": "https://localhost:8080/"
        },
        "id": "ZaENrqIn8Vtj",
        "outputId": "d3d5ac80-f2cf-495f-8a82-b4ddf0040cf6"
      },
      "source": [
        "# evaluasi \n",
        "yhat = lr.predict(X_test)\n",
        "yhat_prob = lr.predict_proba(X_test)\n",
        "# print('F1 score : ', f1_score(y_test, yhat, average='weighted'))\n",
        "print('Accuracy  = ', round(accuracy_score(y_test,yhat)*100,2),'%')\n",
        "print('Recall    = ', round(recall_score(y_test, yhat)*100,2),'%')\n",
        "print('Precision = ', round(precision_score(y_test, yhat)*100,2),'%')\n",
        "print('F1-Score  = ', round(f1_score(y_test, yhat)*100,2),'%')\n",
        "\n",
        "print('Log Loss : ', round(log_loss(y_test, yhat_prob), 2))"
      ],
      "execution_count": 14,
      "outputs": [
        {
          "output_type": "stream",
          "name": "stdout",
          "text": [
            "Accuracy  =  48.33 %\n",
            "Recall    =  22.22 %\n",
            "Precision =  37.5 %\n",
            "F1-Score  =  27.91 %\n",
            "Log Loss :  0.71\n"
          ]
        }
      ]
    }
  ]
}